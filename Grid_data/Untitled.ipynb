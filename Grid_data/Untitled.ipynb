{
 "cells": [
  {
   "cell_type": "code",
   "execution_count": 3,
   "id": "a4d85e80",
   "metadata": {},
   "outputs": [
    {
     "name": "stdout",
     "output_type": "stream",
     "text": [
      "                      date        p1        p2        p3        c1        c2   \n",
      "0      2019-01-01 01:00:00  0.859578  0.887445  0.958034 -0.782604 -1.257395  \\\n",
      "1      2019-01-01 02:00:00  0.862414  0.562139  0.781760 -1.940058 -1.872742   \n",
      "2      2019-01-01 03:00:00  0.766689  0.839444  0.109853 -1.207456 -1.277210   \n",
      "3      2019-01-01 04:00:00  0.976744  0.929381  0.362718 -1.027473 -1.938944   \n",
      "4      2019-01-01 05:00:00  0.455450  0.656947  0.820923 -1.125531 -1.845975   \n",
      "...                    ...       ...       ...       ...       ...       ...   \n",
      "43818  2023-12-31 19:00:00  0.257940  0.895296  0.868929 -1.954289 -0.981347   \n",
      "43819  2023-12-31 20:00:00  0.848075  0.909264  0.266201 -1.428185 -0.525543   \n",
      "43820  2023-12-31 21:00:00  0.393902  0.441923  0.697164 -0.701491 -1.279522   \n",
      "43821  2023-12-31 22:00:00  0.280877  0.532758  0.368188 -1.076426 -1.231602   \n",
      "43822  2023-12-31 23:00:00  0.237036  0.891977  0.656815 -1.579196 -1.526573   \n",
      "\n",
      "             c3 stability  \n",
      "0     -1.723086  unstable  \n",
      "1     -1.255012    stable  \n",
      "2     -0.920492  unstable  \n",
      "3     -0.997374  unstable  \n",
      "4     -0.554305  unstable  \n",
      "...         ...       ...  \n",
      "43818 -1.654103    stable  \n",
      "43819 -1.545585    stable  \n",
      "43820 -1.019624  unstable  \n",
      "43821 -1.164986    stable  \n",
      "43822 -0.571834  unstable  \n",
      "\n",
      "[43823 rows x 8 columns]\n"
     ]
    }
   ],
   "source": [
    "import pandas as pd\n",
    "\n",
    "df = pd.read_csv('final_griddata.csv')\n",
    "\n",
    "print(df)"
   ]
  },
  {
   "cell_type": "code",
   "execution_count": 5,
   "id": "70caf2ce",
   "metadata": {},
   "outputs": [
    {
     "ename": "SyntaxError",
     "evalue": "invalid non-printable character U+00A0 (303197534.py, line 7)",
     "output_type": "error",
     "traceback": [
      "\u001b[1;36m  Cell \u001b[1;32mIn[5], line 7\u001b[1;36m\u001b[0m\n\u001b[1;33m    df['milliseconds'] = df['datetime_column'].dt.microsecond\u001b[0m\n\u001b[1;37m                                                             ^\u001b[0m\n\u001b[1;31mSyntaxError\u001b[0m\u001b[1;31m:\u001b[0m invalid non-printable character U+00A0\n"
     ]
    }
   ],
   "source": []
  }
 ],
 "metadata": {
  "kernelspec": {
   "display_name": "Python 3 (ipykernel)",
   "language": "python",
   "name": "python3"
  },
  "language_info": {
   "codemirror_mode": {
    "name": "ipython",
    "version": 3
   },
   "file_extension": ".py",
   "mimetype": "text/x-python",
   "name": "python",
   "nbconvert_exporter": "python",
   "pygments_lexer": "ipython3",
   "version": "3.11.1"
  }
 },
 "nbformat": 4,
 "nbformat_minor": 5
}
